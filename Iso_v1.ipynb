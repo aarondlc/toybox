{
  "nbformat": 4,
  "nbformat_minor": 0,
  "metadata": {
    "colab": {
      "name": "Iso_v1.ipynb",
      "provenance": [],
      "include_colab_link": true
    },
    "kernelspec": {
      "name": "python3",
      "display_name": "Python 3"
    }
  },
  "cells": [
    {
      "cell_type": "markdown",
      "metadata": {
        "id": "view-in-github",
        "colab_type": "text"
      },
      "source": [
        "<a href=\"https://colab.research.google.com/github/aarondlc/toybox/blob/master/Iso_v1.ipynb\" target=\"_parent\"><img src=\"https://colab.research.google.com/assets/colab-badge.svg\" alt=\"Open In Colab\"/></a>"
      ]
    },
    {
      "cell_type": "code",
      "metadata": {
        "id": "CRelIk4h_04P",
        "colab_type": "code",
        "outputId": "fb37e8a9-dbbf-4d88-b181-c70514fc2df1",
        "colab": {
          "base_uri": "https://localhost:8080/",
          "height": 34
        }
      },
      "source": [
        "#!pip install shapely\n",
        "# -*- coding: utf-8 -*-\n",
        "# Importamos librerias basicas\n",
        "import requests\n",
        "import pandas as pd\n",
        "import numpy as np\n",
        "from collections.abc import MutableMapping\n",
        "from shapely.geometry import Polygon\n",
        "\n",
        "# Definimos funciones propias\n",
        "## Para aplanar los dict anidados\n",
        "def flatten(d, parent_key='', sep='_'):\n",
        "    items = []\n",
        "    for k, v in d.items():\n",
        "        new_key = parent_key + sep + k if parent_key else k\n",
        "        if isinstance(v, MutableMapping):\n",
        "            items.extend(flatten(v, new_key, sep=sep).items())\n",
        "        else:\n",
        "            items.append((new_key, v))\n",
        "    return dict(items)\n",
        "##Para extraer las coordenadas del poligono cortado\n",
        "def extract_poly_coords(geom):\n",
        "    if geom.type == 'Polygon':\n",
        "        exterior_coords = geom.exterior.coords[:]\n",
        "        interior_coords = []\n",
        "        for interior in geom.interiors:\n",
        "            interior_coords += interior.coords[:]\n",
        "    elif geom.type == 'MultiPolygon':\n",
        "        exterior_coords = []\n",
        "        interior_coords = []\n",
        "        for part in geom:\n",
        "            epc = extract_poly_coords(part)  # Recursive call\n",
        "            exterior_coords += epc['exterior_coords']\n",
        "            interior_coords += epc['interior_coords']\n",
        "    else:\n",
        "        raise ValueError('Unhandled geometry type: ' + repr(geom.type))\n",
        "    return {'exterior_coords': exterior_coords,\n",
        "            'interior_coords': interior_coords}\n",
        " \n",
        "\n"
      ],
      "execution_count": 0,
      "outputs": [
        {
          "output_type": "stream",
          "text": [
            "Requirement already satisfied: shapely in /usr/local/lib/python3.6/dist-packages (1.7.0)\n"
          ],
          "name": "stdout"
        }
      ]
    },
    {
      "cell_type": "code",
      "metadata": {
        "id": "ZwaqI0JmAg5d",
        "colab_type": "code",
        "outputId": "5ebb2bb1-8f37-4f30-f0cd-8860a3c2946b",
        "colab": {
          "base_uri": "https://localhost:8080/",
          "height": 153
        }
      },
      "source": [
        "'''\n",
        "Script principal para descargarlos datos desde la API. Recibe un DF y devuelve el DF actualizado\n",
        "sin borrar datos y un kml   \n",
        "'''\n",
        "\n",
        "## Parametros del payload\n",
        "tipo = \"isochrone\"\n",
        "#value = 600\n",
        "#lat = 43.33409\n",
        "#lng = -1.792069\n",
        "approx = 100\n",
        "mobility = \"motor_vehicle\"\n",
        "speedType = \"normal\"\n",
        "reduceQueue = \"false\"\n",
        "avoidTolls = \"true\"\n",
        "restrictedAreas = \"true\"\n",
        "fastestRouting = \"true\"\n",
        "concavity = 6\n",
        "buffering = 3\n",
        "reqId = \"A57X\"\n",
        "\n",
        "rest_id = [32091,33567]\n",
        "payload = [(41.3967997,2.1660627),(39.47048499999999,-0.3901581)]\n",
        "tiempos = [720,900]\n",
        "\n",
        "data = {}\n",
        "Iso_tiempo = {}\n",
        "\n",
        "for rest_id in rest_id:\n",
        "    for value in tiempos:\n",
        "        for lat, lng in payload:\n",
        "            \n",
        "            parametros = {\"type\" : tipo,\n",
        "                          \"value\" : value,\n",
        "                          \"lat\" : lat,\n",
        "                          \"lng\" : lng,\n",
        "                          \"approx\" : approx,\n",
        "                          \"mobility\" : mobility,\n",
        "                          \"speedType\" : speedType,\n",
        "                          \"reduceQueue\" : reduceQueue,\n",
        "                          \"avoidTolls\" : avoidTolls,\n",
        "                          \"restrictedAreas\" : restrictedAreas,\n",
        "                          \"fastestRouting\" : fastestRouting,\n",
        "                          \"concavity\" : concavity,\n",
        "                          \"buffering\" : buffering,\n",
        "                          \"reqId\" : reqId}\n",
        "            respuesta = requests.get(\"http://www.iso4app.net/rest/1.3/isoline.json?licKey=9F4768A8-22BF-46EE-B6EB-9A6490643CDA\", parametros)\n",
        "            print(respuesta)\n",
        "            output = flatten(respuesta.json())\n",
        "            longitud = []\n",
        "            latitud = []\n",
        "            for i in range(len(output['polygons'][0]['exterior'])):\n",
        "                longitud.append(output['polygons'][0]['exterior'][i][0])\n",
        "            for i in range(len(output['polygons'][0]['exterior'])):\n",
        "                latitud.append(output['polygons'][0]['exterior'][i][1])\n",
        "                Iso_tiempo[value] = list(zip(longitud, latitud))\n",
        "    data[rest_id] = Iso_tiempo     \n",
        "df = pd.DataFrame.from_dict(data, orient='index')     "
      ],
      "execution_count": 0,
      "outputs": [
        {
          "output_type": "stream",
          "text": [
            "<Response [200]>\n",
            "<Response [200]>\n",
            "<Response [200]>\n",
            "<Response [200]>\n",
            "<Response [200]>\n",
            "<Response [200]>\n",
            "<Response [200]>\n",
            "<Response [200]>\n"
          ],
          "name": "stdout"
        }
      ]
    },
    {
      "cell_type": "code",
      "metadata": {
        "id": "GYNX3vqYOxfa",
        "colab_type": "code",
        "colab": {}
      },
      "source": [
        "#Para obtener el corte del poligono de isocronas con el de restricciones\n",
        "import shapely\n",
        "from shapely.geometry import Polygon\n",
        "LAND = Polygon([(0, 0), (0, 20), (20, 20), (20, 0)])\n",
        "diff = LAND\n",
        "polygons = generate_polygons(20, 15)\n",
        "\n",
        "for polygon in polygons:\n",
        "    diff = diff.difference(polygon)\n",
        "diff "
      ],
      "execution_count": 0,
      "outputs": []
    },
    {
      "cell_type": "code",
      "metadata": {
        "id": "sZ8XCPfWx90n",
        "colab_type": "code",
        "colab": {}
      },
      "source": [
        "df.to_csv('test.csv')"
      ],
      "execution_count": 0,
      "outputs": []
    },
    {
      "cell_type": "code",
      "metadata": {
        "id": "bubd3lsnz5eR",
        "colab_type": "code",
        "colab": {}
      },
      "source": [
        "#Para crear un kml a gusto de RM\n",
        "import simplekml\n",
        "kml = simplekml.Kml()\n",
        "pol = kml.newpolygon(name='A Polygon')\n",
        "pol.outerboundaryis = data[32091][720]\n",
        "pol.innerboundaryis = []\n",
        "pol.style.linestyle.color = simplekml.Color.green\n",
        "pol.style.linestyle.width = 5\n",
        "pol.style.polystyle.color = simplekml.Color.changealphaint(100, simplekml.Color.green)\n",
        "kml.save(\"1.kml\")"
      ],
      "execution_count": 0,
      "outputs": []
    },
    {
      "cell_type": "code",
      "metadata": {
        "id": "kFuQEyS49SFC",
        "colab_type": "code",
        "outputId": "d1cfab9b-6375-486f-b566-ef128ce7c755",
        "colab": {
          "base_uri": "https://localhost:8080/",
          "height": 1000
        }
      },
      "source": [
        "#Para parsear los poligonos de restricciones                                                                      \n",
        "#!pip install pykml\n",
        "from pykml import parser\n",
        "\n",
        "root = parser.fromstring(open('VALENCIA_ISOLINE.kml', 'rb').read())\n",
        "print (root.Document.Placemark.Polygon.outerBoundaryIs.LinearRing.coordinates)"
      ],
      "execution_count": 0,
      "outputs": [
        {
          "output_type": "stream",
          "text": [
            "\n",
            "              -0.347155,39.497335,0\n",
            "              -0.350545,39.49866,0\n",
            "              -0.351876,39.499786,0\n",
            "              -0.366325,39.506027,0\n",
            "              -0.367184,39.504703,0\n",
            "              -0.36802,39.503676,0\n",
            "              -0.368514,39.50212,0\n",
            "              -0.370016,39.500464,0\n",
            "              -0.370446,39.49808,0\n",
            "              -0.37508,39.499305,0\n",
            "              -0.376013,39.499438,0\n",
            "              -0.378148,39.499306,0\n",
            "              -0.382676,39.498412,0\n",
            "              -0.386324,39.497716,0\n",
            "              -0.388598,39.499902,0\n",
            "              -0.391174,39.502186,0\n",
            "              -0.393835,39.501971,0\n",
            "              -0.395122,39.502318,0\n",
            "              -0.398512,39.499934,0\n",
            "              -0.401173,39.499041,0\n",
            "              -0.404982,39.497617,0\n",
            "              -0.407546,39.496822,0\n",
            "              -0.409927,39.495828,0\n",
            "              -0.410056,39.494802,0\n",
            "              -0.408511,39.492616,0\n",
            "              -0.408855,39.492285,0\n",
            "              -0.404949,39.487747,0\n",
            "              -0.406623,39.482382,0\n",
            "              -0.407267,39.480394,0\n",
            "              -0.406151,39.474763,0\n",
            "              -0.405956,39.473868,0\n",
            "              -0.407048,39.473702,0\n",
            "              -0.409061,39.474033,0\n",
            "              -0.410254,39.47496,0\n",
            "              -0.411268,39.476084,0\n",
            "              -0.411922,39.477008,0\n",
            "              -0.414518,39.478126,0\n",
            "              -0.415418,39.47937,0\n",
            "              -0.41902,39.481591,0\n",
            "              -0.423392,39.480536,0\n",
            "              -0.424841,39.478291,0\n",
            "              -0.423446,39.477645,0\n",
            "              -0.424369,39.476105,0\n",
            "              -0.423961,39.475128,0\n",
            "              -0.41923,39.469247,0\n",
            "              -0.419047,39.468966,0\n",
            "              -0.419057,39.468518,0\n",
            "              -0.417474,39.466539,0\n",
            "              -0.416211,39.46714,0\n",
            "              -0.41648,39.466346,0\n",
            "              -0.416744,39.466016,0\n",
            "              -0.416704,39.465354,0\n",
            "              -0.417628,39.465222,0\n",
            "              -0.408649,39.452465,0\n",
            "              -0.405378,39.448257,0\n",
            "              -0.402803,39.451106,0\n",
            "              -0.393491,39.444578,0\n",
            "              -0.394221,39.443485,0\n",
            "              -0.387805,39.44201,0\n",
            "              -0.387569,39.443054,0\n",
            "              -0.386432,39.446302,0\n",
            "              -0.372248,39.444578,0\n",
            "              -0.368814,39.445672,0\n",
            "              -0.366154,39.446865,0\n",
            "              -0.36418,39.44766,0\n",
            "              -0.363279,39.448124,0\n",
            "              -0.361089,39.449052,0\n",
            "              -0.354073,39.452266,0\n",
            "              -0.351477,39.453426,0\n",
            "              -0.350618,39.454023,0\n",
            "              -0.349932,39.454089,0\n",
            "              -0.349588,39.454487,0\n",
            "              -0.347829,39.45568,0\n",
            "              -0.346378,39.455048,0\n",
            "              -0.344198,39.454549,0\n",
            "              -0.341984,39.454677,0\n",
            "              -0.341676,39.454336,0\n",
            "              -0.334106,39.455113,0\n",
            "              -0.332787,39.454678,0\n",
            "              -0.331263,39.453543,0\n",
            "              -0.330019,39.455316,0\n",
            "              -0.329762,39.456342,0\n",
            "              -0.331307,39.457767,0\n",
            "              -0.332337,39.459192,0\n",
            "              -0.332165,39.460583,0\n",
            "              -0.330276,39.462306,0\n",
            "              -0.32238,39.462307,0\n",
            "              -0.323238,39.468303,0\n",
            "              -0.324011,39.468651,0\n",
            "              -0.324268,39.469595,0\n",
            "              -0.323882,39.472643,0\n",
            "              -0.324354,39.482414,0\n",
            "              -0.324375,39.484103,0\n",
            "              -0.325084,39.485859,0\n",
            "              -0.324528,39.493265,0\n",
            "              -0.325346,39.493518,0\n",
            "              -0.329729,39.493824,0\n",
            "              -0.330427,39.489999,0\n",
            "              -0.331221,39.485528,0\n",
            "              -0.33386,39.484063,0\n",
            "              -0.340619,39.483657,0\n",
            "              -0.345554,39.484965,0\n",
            "              -0.351219,39.481918,0\n",
            "              -0.352421,39.488542,0\n",
            "              -0.356884,39.493642,0\n",
            "              -0.356111,39.494867,0\n",
            "              -0.353664,39.494486,0\n",
            "              -0.348922,39.49264,0\n",
            "              -0.345521,39.50132,0\n",
            "              -0.347155,39.497335,0\n",
            "            \n"
          ],
          "name": "stdout"
        }
      ]
    },
    {
      "cell_type": "code",
      "metadata": {
        "id": "jn4echDf9W73",
        "colab_type": "code",
        "colab": {}
      },
      "source": [
        ""
      ],
      "execution_count": 0,
      "outputs": []
    }
  ]
}